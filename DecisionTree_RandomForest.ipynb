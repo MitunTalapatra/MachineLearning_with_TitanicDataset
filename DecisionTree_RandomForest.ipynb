{
 "cells": [
  {
   "cell_type": "code",
   "execution_count": 122,
   "id": "920e08af-b9b3-4470-b689-abc332db4682",
   "metadata": {},
   "outputs": [],
   "source": [
    "import pandas as pd\n",
    "import numpy as np\n",
    "import matplotlib.pyplot as plt\n",
    "import plotly.express as px\n",
    "import seaborn as sns\n",
    "from sklearn.linear_model import LogisticRegression\n",
    "from sklearn.model_selection import train_test_split\n",
    "from sklearn.metrics import recall_score, accuracy_score, f1_score, precision_score, classification_report\n",
    "\n",
    "from sklearn.compose import ColumnTransformer\n",
    "from sklearn.pipeline import make_pipeline\n",
    "from sklearn.impute import SimpleImputer\n",
    "from sklearn.preprocessing import OneHotEncoder, KBinsDiscretizer, MinMaxScaler, LabelEncoder, OrdinalEncoder, FunctionTransformer\n",
    "from sklearn.dummy import DummyClassifier\n",
    "from sklearn.tree import DecisionTreeClassifier\n",
    "from sklearn.tree import plot_tree\n",
    "from sklearn.ensemble import RandomForestClassifier\n",
    "\n",
    "import warnings\n",
    "warnings.filterwarnings(\"ignore\")"
   ]
  },
  {
   "cell_type": "code",
   "execution_count": null,
   "id": "ca494752-25f2-4754-a7a2-437f7d36eaf3",
   "metadata": {},
   "outputs": [],
   "source": []
  },
  {
   "cell_type": "code",
   "execution_count": null,
   "id": "4499be41-9771-4dad-b012-18c59bb67008",
   "metadata": {},
   "outputs": [],
   "source": []
  },
  {
   "cell_type": "code",
   "execution_count": 3,
   "id": "aab59036-3576-45ee-a40c-81866425008d",
   "metadata": {},
   "outputs": [],
   "source": [
    "df = pd.read_csv('train.csv')"
   ]
  },
  {
   "cell_type": "code",
   "execution_count": null,
   "id": "56b6311d-6a9d-427f-b61a-6ec4f5abf7e6",
   "metadata": {},
   "outputs": [],
   "source": []
  },
  {
   "cell_type": "code",
   "execution_count": 130,
   "id": "06960813-34e3-464f-a155-ab78470388da",
   "metadata": {
    "tags": []
   },
   "outputs": [
    {
     "name": "stdout",
     "output_type": "stream",
     "text": [
      "<class 'pandas.core.frame.DataFrame'>\n",
      "RangeIndex: 891 entries, 0 to 890\n",
      "Data columns (total 20 columns):\n",
      " #   Column          Non-Null Count  Dtype  \n",
      "---  ------          --------------  -----  \n",
      " 0   PassengerId     891 non-null    int64  \n",
      " 1   Survived        891 non-null    int64  \n",
      " 2   Pclass          891 non-null    int64  \n",
      " 3   Name            891 non-null    object \n",
      " 4   Sex             891 non-null    float64\n",
      " 5   Age             891 non-null    float64\n",
      " 6   SibSp           891 non-null    float64\n",
      " 7   Parch           891 non-null    float64\n",
      " 8   Ticket          891 non-null    object \n",
      " 9   Fare            891 non-null    float64\n",
      " 10  Cabin           204 non-null    object \n",
      " 11  Embarked        889 non-null    object \n",
      " 12  0.0_to_41.0     890 non-null    float64\n",
      " 13  41.0_to_99.0    890 non-null    float64\n",
      " 14  99.0_to_185.0   890 non-null    float64\n",
      " 15  185.0_to_375.0  890 non-null    float64\n",
      " 16  375.0_to_512.0  890 non-null    float64\n",
      " 17  Title           891 non-null    object \n",
      " 18  Priority        891 non-null    int64  \n",
      " 19  Age_group       891 non-null    int64  \n",
      "dtypes: float64(10), int64(5), object(5)\n",
      "memory usage: 139.3+ KB\n"
     ]
    }
   ],
   "source": [
    "df_fEng = pd.read_csv('train_fEng.csv')\n",
    "df_fEng.info()"
   ]
  },
  {
   "cell_type": "code",
   "execution_count": 131,
   "id": "1747ec7c-13b6-41c0-b4a1-021308e71594",
   "metadata": {},
   "outputs": [],
   "source": [
    "y = df_fEng['Survived']\n",
    "X = df_fEng.drop(['Age','PassengerId','SibSp', 'Parch', 'Embarked', 'Ticket', 'Survived', '0.0_to_41.0', '41.0_to_99.0', '99.0_to_185.0', '185.0_to_375.0', '375.0_to_512.0', 'Title', 'Name', 'Cabin'],  axis=1)"
   ]
  },
  {
   "cell_type": "code",
   "execution_count": 132,
   "id": "409fecdc-f08f-4fb0-a6e0-102cf8eeac67",
   "metadata": {
    "tags": []
   },
   "outputs": [
    {
     "data": {
      "text/html": [
       "<div>\n",
       "<style scoped>\n",
       "    .dataframe tbody tr th:only-of-type {\n",
       "        vertical-align: middle;\n",
       "    }\n",
       "\n",
       "    .dataframe tbody tr th {\n",
       "        vertical-align: top;\n",
       "    }\n",
       "\n",
       "    .dataframe thead th {\n",
       "        text-align: right;\n",
       "    }\n",
       "</style>\n",
       "<table border=\"1\" class=\"dataframe\">\n",
       "  <thead>\n",
       "    <tr style=\"text-align: right;\">\n",
       "      <th></th>\n",
       "      <th>Pclass</th>\n",
       "      <th>Sex</th>\n",
       "      <th>Fare</th>\n",
       "      <th>Priority</th>\n",
       "      <th>Age_group</th>\n",
       "    </tr>\n",
       "  </thead>\n",
       "  <tbody>\n",
       "    <tr>\n",
       "      <th>0</th>\n",
       "      <td>3</td>\n",
       "      <td>0.0</td>\n",
       "      <td>7.2500</td>\n",
       "      <td>3</td>\n",
       "      <td>5</td>\n",
       "    </tr>\n",
       "    <tr>\n",
       "      <th>1</th>\n",
       "      <td>1</td>\n",
       "      <td>1.0</td>\n",
       "      <td>71.2833</td>\n",
       "      <td>1</td>\n",
       "      <td>4</td>\n",
       "    </tr>\n",
       "    <tr>\n",
       "      <th>2</th>\n",
       "      <td>3</td>\n",
       "      <td>1.0</td>\n",
       "      <td>7.9250</td>\n",
       "      <td>1</td>\n",
       "      <td>5</td>\n",
       "    </tr>\n",
       "    <tr>\n",
       "      <th>3</th>\n",
       "      <td>1</td>\n",
       "      <td>1.0</td>\n",
       "      <td>53.1000</td>\n",
       "      <td>1</td>\n",
       "      <td>4</td>\n",
       "    </tr>\n",
       "    <tr>\n",
       "      <th>4</th>\n",
       "      <td>3</td>\n",
       "      <td>0.0</td>\n",
       "      <td>8.0500</td>\n",
       "      <td>3</td>\n",
       "      <td>4</td>\n",
       "    </tr>\n",
       "    <tr>\n",
       "      <th>...</th>\n",
       "      <td>...</td>\n",
       "      <td>...</td>\n",
       "      <td>...</td>\n",
       "      <td>...</td>\n",
       "      <td>...</td>\n",
       "    </tr>\n",
       "    <tr>\n",
       "      <th>886</th>\n",
       "      <td>2</td>\n",
       "      <td>0.0</td>\n",
       "      <td>13.0000</td>\n",
       "      <td>2</td>\n",
       "      <td>5</td>\n",
       "    </tr>\n",
       "    <tr>\n",
       "      <th>887</th>\n",
       "      <td>1</td>\n",
       "      <td>1.0</td>\n",
       "      <td>30.0000</td>\n",
       "      <td>1</td>\n",
       "      <td>5</td>\n",
       "    </tr>\n",
       "    <tr>\n",
       "      <th>888</th>\n",
       "      <td>3</td>\n",
       "      <td>1.0</td>\n",
       "      <td>23.4500</td>\n",
       "      <td>1</td>\n",
       "      <td>5</td>\n",
       "    </tr>\n",
       "    <tr>\n",
       "      <th>889</th>\n",
       "      <td>1</td>\n",
       "      <td>0.0</td>\n",
       "      <td>30.0000</td>\n",
       "      <td>3</td>\n",
       "      <td>5</td>\n",
       "    </tr>\n",
       "    <tr>\n",
       "      <th>890</th>\n",
       "      <td>3</td>\n",
       "      <td>0.0</td>\n",
       "      <td>7.7500</td>\n",
       "      <td>3</td>\n",
       "      <td>5</td>\n",
       "    </tr>\n",
       "  </tbody>\n",
       "</table>\n",
       "<p>891 rows × 5 columns</p>\n",
       "</div>"
      ],
      "text/plain": [
       "     Pclass  Sex     Fare  Priority  Age_group\n",
       "0         3  0.0   7.2500         3          5\n",
       "1         1  1.0  71.2833         1          4\n",
       "2         3  1.0   7.9250         1          5\n",
       "3         1  1.0  53.1000         1          4\n",
       "4         3  0.0   8.0500         3          4\n",
       "..      ...  ...      ...       ...        ...\n",
       "886       2  0.0  13.0000         2          5\n",
       "887       1  1.0  30.0000         1          5\n",
       "888       3  1.0  23.4500         1          5\n",
       "889       1  0.0  30.0000         3          5\n",
       "890       3  0.0   7.7500         3          5\n",
       "\n",
       "[891 rows x 5 columns]"
      ]
     },
     "execution_count": 132,
     "metadata": {},
     "output_type": "execute_result"
    }
   ],
   "source": [
    "X"
   ]
  },
  {
   "cell_type": "code",
   "execution_count": 133,
   "id": "b9db9b1b-3273-4baa-9adb-4aa6b382b89a",
   "metadata": {},
   "outputs": [],
   "source": [
    "X_train, X_test, y_train, y_test = train_test_split(X,y, test_size=0.2, random_state= 10)"
   ]
  },
  {
   "cell_type": "code",
   "execution_count": 134,
   "id": "b2511177-fdb3-425b-8525-6325cddddc0e",
   "metadata": {},
   "outputs": [
    {
     "data": {
      "text/plain": [
       "((712, 5), (712,))"
      ]
     },
     "execution_count": 134,
     "metadata": {},
     "output_type": "execute_result"
    }
   ],
   "source": [
    "X_train.shape, y_train.shape"
   ]
  },
  {
   "cell_type": "code",
   "execution_count": 135,
   "id": "9ce0f9bd-82f0-4e20-9c7c-67cec40b5641",
   "metadata": {},
   "outputs": [
    {
     "data": {
      "text/plain": [
       "((179, 5), (179,))"
      ]
     },
     "execution_count": 135,
     "metadata": {},
     "output_type": "execute_result"
    }
   ],
   "source": [
    "X_test.shape, y_test.shape"
   ]
  },
  {
   "cell_type": "code",
   "execution_count": null,
   "id": "8b7029d5-b29c-457d-a57c-59e562dcb044",
   "metadata": {},
   "outputs": [],
   "source": []
  },
  {
   "cell_type": "markdown",
   "id": "e24e138f-42b7-4eb4-8190-9e05e7c26fac",
   "metadata": {},
   "source": [
    "## Decision Tree"
   ]
  },
  {
   "cell_type": "code",
   "execution_count": null,
   "id": "4a87c802-15af-4530-97a9-5f13dff9db35",
   "metadata": {},
   "outputs": [],
   "source": []
  },
  {
   "cell_type": "code",
   "execution_count": 136,
   "id": "64ce5242-dda3-484f-bd4e-3b55540bbbb4",
   "metadata": {},
   "outputs": [
    {
     "name": "stdout",
     "output_type": "stream",
     "text": [
      "score from Decision tree on train dataset: 0.94\n"
     ]
    }
   ],
   "source": [
    "m = DecisionTreeClassifier(splitter='random', max_depth= 20)\n",
    "m.fit(X_train, y_train)\n",
    "print(f'score from Decision tree on train dataset: {round(m.score(X_train, y_train),3)}')"
   ]
  },
  {
   "cell_type": "code",
   "execution_count": null,
   "id": "8a15101a-1637-4534-8065-c38dfb0a2a10",
   "metadata": {},
   "outputs": [],
   "source": []
  },
  {
   "cell_type": "code",
   "execution_count": 137,
   "id": "12357557-4b4a-48d6-811d-0a4dc1a860b8",
   "metadata": {},
   "outputs": [
    {
     "name": "stdout",
     "output_type": "stream",
     "text": [
      "score from Decision tree on test dataset: 0.821\n"
     ]
    }
   ],
   "source": [
    "print(f'score from Decision tree on test dataset: {round(m.score(X_test, y_test),3)}')"
   ]
  },
  {
   "cell_type": "code",
   "execution_count": null,
   "id": "379a3b34-3488-484c-a26a-673cc37fa7b7",
   "metadata": {},
   "outputs": [],
   "source": []
  },
  {
   "cell_type": "code",
   "execution_count": 139,
   "id": "52eeb696-39db-4c76-a356-41b1b71870e9",
   "metadata": {
    "collapsed": true,
    "jupyter": {
     "outputs_hidden": true
    },
    "tags": []
   },
   "outputs": [
    {
     "data": {
      "image/png": "[encoded data removed]",
      "text/plain": [
       "<Figure size 1800x1080 with 1 Axes>"
      ]
     },
     "metadata": {},
     "output_type": "display_data"
    }
   ],
   "source": [
    "plt.figure(figsize = (25,15))\n",
    "t = plot_tree(m, feature_names = ['Pclass', 'Sex', 'Fare', 'Priority', 'Age_group'], class_names=['0', '1'], filled=True)"
   ]
  },
  {
   "cell_type": "code",
   "execution_count": 143,
   "id": "94022e55-301c-492b-8857-463f1c436fc5",
   "metadata": {},
   "outputs": [
    {
     "data": {
      "text/plain": [
       "(179, 5)"
      ]
     },
     "execution_count": 143,
     "metadata": {},
     "output_type": "execute_result"
    }
   ],
   "source": [
    "X_test.shape"
   ]
  },
  {
   "cell_type": "markdown",
   "id": "667c24d7-feac-4729-b9f8-d61fda9378c3",
   "metadata": {
    "tags": []
   },
   "source": [
    "## Random Forest"
   ]
  },
  {
   "cell_type": "code",
   "execution_count": 144,
   "id": "91997675-4711-4be2-833f-4de92953efc7",
   "metadata": {},
   "outputs": [
    {
     "name": "stdout",
     "output_type": "stream",
     "text": [
      "score from Random Forest on train dataset: 0.94\n"
     ]
    }
   ],
   "source": [
    "rf = RandomForestClassifier(n_estimators=100, criterion='gini', max_depth=20)\n",
    "rf.fit(X_train, y_train)\n",
    "print(f'score from Random Forest on train dataset: {round(rf.score(X_train, y_train),3)}')"
   ]
  },
  {
   "cell_type": "code",
   "execution_count": 145,
   "id": "a89265cf-c6eb-4d38-b232-e4b0f13127ae",
   "metadata": {},
   "outputs": [
    {
     "name": "stdout",
     "output_type": "stream",
     "text": [
      "score from Random Forest on test dataset: 0.855\n"
     ]
    }
   ],
   "source": [
    "print(f'score from Random Forest on test dataset: {round(rf.score(X_test,y_test),3)}')"
   ]
  },
  {
   "cell_type": "code",
   "execution_count": 146,
   "id": "a0ac1c46-08ea-4355-8986-b7810825b741",
   "metadata": {},
   "outputs": [
    {
     "data": {
      "text/plain": [
       "(712,)"
      ]
     },
     "execution_count": 146,
     "metadata": {},
     "output_type": "execute_result"
    }
   ],
   "source": [
    "y_train.shape"
   ]
  },
  {
   "cell_type": "markdown",
   "id": "e53681d8-aec5-43bd-9dbc-55233b5068e2",
   "metadata": {},
   "source": [
    "## Understanding overfitting problem and max depth"
   ]
  },
  {
   "cell_type": "markdown",
   "id": "a6ed20eb-a530-46aa-a16f-3145eb8952cf",
   "metadata": {},
   "source": [
    "## Tree"
   ]
  },
  {
   "cell_type": "code",
   "execution_count": 16,
   "id": "6c99999a-6a24-4ede-af2c-a7a8f23c5342",
   "metadata": {},
   "outputs": [],
   "source": [
    "from sklearn.datasets import make_classification\n",
    "import random\n",
    "\n",
    "random_state = 123\n",
    "times = 33\n",
    "samples = 100000\n",
    "features = 50\n",
    "proportion_informative = 0.8\n",
    "proportion_missing = 0.1\n",
    "proportion_w_nose = 0.8\n",
    "\n",
    "output_tree = []\n",
    "output_rf = []"
   ]
  },
  {
   "cell_type": "code",
   "execution_count": 17,
   "id": "349dd623-98c9-4f50-8f99-058bd1477d90",
   "metadata": {},
   "outputs": [],
   "source": [
    "# build initial fully grown tree\n",
    "initial_tree = DecisionTreeClassifier(max_features=\"sqrt\", random_state=random_state,)\n",
    "initial_tree_fit = initial_tree.fit(X_train, y_train)"
   ]
  },
  {
   "cell_type": "code",
   "execution_count": 32,
   "id": "b63495d9-0c1d-43df-8449-5de8b07f6906",
   "metadata": {},
   "outputs": [
    {
     "data": {
      "text/plain": [
       "28"
      ]
     },
     "execution_count": 32,
     "metadata": {},
     "output_type": "execute_result"
    }
   ],
   "source": [
    "# get max depth\n",
    "max_depth = initial_tree_fit.tree_.max_depth\n",
    "# construct depth grid\n",
    "list_depths = np.arange(1, max_depth, 1).tolist()\n",
    "depth_pct = [100] + [(n / max_depth) * 100 for n in list_depths]\n",
    "max_depth"
   ]
  },
  {
   "cell_type": "code",
   "execution_count": null,
   "id": "27e4dbab-ba5a-4465-a45e-0b53ef8d9df5",
   "metadata": {},
   "outputs": [],
   "source": []
  },
  {
   "cell_type": "code",
   "execution_count": 19,
   "id": "9401f000-21ac-4eee-b250-b85d1d45be11",
   "metadata": {},
   "outputs": [],
   "source": [
    "list_trees = [initial_tree_fit]\n",
    "for depth in list_depths:\n",
    "    tmptree = DecisionTreeClassifier(max_depth=depth, max_features=\"sqrt\", random_state=random_state)\n",
    "    list_trees.append(tmptree.fit(X_train, y_train))"
   ]
  },
  {
   "cell_type": "code",
   "execution_count": 96,
   "id": "594e8844-2aa7-44f5-b002-a106d3f3180d",
   "metadata": {},
   "outputs": [],
   "source": [
    "train_accuracy = []\n",
    "test_accuracy = []"
   ]
  },
  {
   "cell_type": "code",
   "execution_count": 97,
   "id": "1725526d-d86c-489a-8035-acaeb355823a",
   "metadata": {},
   "outputs": [],
   "source": [
    "for tree in list_trees:\n",
    "    yhat_train = tree.predict(X_train)\n",
    "    yhat_test = tree.predict(X_test)\n",
    "    train_accuracy.append(accuracy_score(y_train, yhat_train))\n",
    "    test_accuracy.append(accuracy_score(y_test, yhat_test))\n",
    "\n",
    "# save to pandas df\n",
    "df_t = pd.DataFrame(list(zip(depth_pct, train_accuracy, test_accuracy)),\n",
    "        columns=[\"depth\", \"train_accuracy\", \"test_accuracy\"])\n",
    "output_tree.append(df_t)"
   ]
  },
  {
   "cell_type": "code",
   "execution_count": 98,
   "id": "15357f08-5416-46b3-9cc0-6af2f05c41dc",
   "metadata": {
    "collapsed": true,
    "jupyter": {
     "outputs_hidden": true
    },
    "tags": []
   },
   "outputs": [
    {
     "data": {
      "text/html": [
       "<div>\n",
       "<style scoped>\n",
       "    .dataframe tbody tr th:only-of-type {\n",
       "        vertical-align: middle;\n",
       "    }\n",
       "\n",
       "    .dataframe tbody tr th {\n",
       "        vertical-align: top;\n",
       "    }\n",
       "\n",
       "    .dataframe thead th {\n",
       "        text-align: right;\n",
       "    }\n",
       "</style>\n",
       "<table border=\"1\" class=\"dataframe\">\n",
       "  <thead>\n",
       "    <tr style=\"text-align: right;\">\n",
       "      <th></th>\n",
       "      <th>depth</th>\n",
       "      <th>train_accuracy</th>\n",
       "      <th>test_accuracy</th>\n",
       "    </tr>\n",
       "  </thead>\n",
       "  <tbody>\n",
       "    <tr>\n",
       "      <th>0</th>\n",
       "      <td>100.000000</td>\n",
       "      <td>1.00000</td>\n",
       "      <td>0.76212</td>\n",
       "    </tr>\n",
       "    <tr>\n",
       "      <th>1</th>\n",
       "      <td>3.571429</td>\n",
       "      <td>0.60366</td>\n",
       "      <td>0.60126</td>\n",
       "    </tr>\n",
       "    <tr>\n",
       "      <th>2</th>\n",
       "      <td>7.142857</td>\n",
       "      <td>0.62184</td>\n",
       "      <td>0.62216</td>\n",
       "    </tr>\n",
       "    <tr>\n",
       "      <th>3</th>\n",
       "      <td>10.714286</td>\n",
       "      <td>0.65556</td>\n",
       "      <td>0.65118</td>\n",
       "    </tr>\n",
       "    <tr>\n",
       "      <th>4</th>\n",
       "      <td>14.285714</td>\n",
       "      <td>0.68858</td>\n",
       "      <td>0.68190</td>\n",
       "    </tr>\n",
       "    <tr>\n",
       "      <th>5</th>\n",
       "      <td>17.857143</td>\n",
       "      <td>0.69712</td>\n",
       "      <td>0.68884</td>\n",
       "    </tr>\n",
       "    <tr>\n",
       "      <th>6</th>\n",
       "      <td>21.428571</td>\n",
       "      <td>0.72992</td>\n",
       "      <td>0.71432</td>\n",
       "    </tr>\n",
       "    <tr>\n",
       "      <th>7</th>\n",
       "      <td>25.000000</td>\n",
       "      <td>0.74258</td>\n",
       "      <td>0.72316</td>\n",
       "    </tr>\n",
       "    <tr>\n",
       "      <th>8</th>\n",
       "      <td>28.571429</td>\n",
       "      <td>0.75830</td>\n",
       "      <td>0.72714</td>\n",
       "    </tr>\n",
       "    <tr>\n",
       "      <th>9</th>\n",
       "      <td>32.142857</td>\n",
       "      <td>0.79894</td>\n",
       "      <td>0.75804</td>\n",
       "    </tr>\n",
       "    <tr>\n",
       "      <th>10</th>\n",
       "      <td>35.714286</td>\n",
       "      <td>0.82126</td>\n",
       "      <td>0.76044</td>\n",
       "    </tr>\n",
       "    <tr>\n",
       "      <th>11</th>\n",
       "      <td>39.285714</td>\n",
       "      <td>0.85318</td>\n",
       "      <td>0.76926</td>\n",
       "    </tr>\n",
       "    <tr>\n",
       "      <th>12</th>\n",
       "      <td>42.857143</td>\n",
       "      <td>0.88340</td>\n",
       "      <td>0.76586</td>\n",
       "    </tr>\n",
       "    <tr>\n",
       "      <th>13</th>\n",
       "      <td>46.428571</td>\n",
       "      <td>0.90056</td>\n",
       "      <td>0.76486</td>\n",
       "    </tr>\n",
       "    <tr>\n",
       "      <th>14</th>\n",
       "      <td>50.000000</td>\n",
       "      <td>0.93484</td>\n",
       "      <td>0.77018</td>\n",
       "    </tr>\n",
       "    <tr>\n",
       "      <th>15</th>\n",
       "      <td>53.571429</td>\n",
       "      <td>0.95362</td>\n",
       "      <td>0.77382</td>\n",
       "    </tr>\n",
       "    <tr>\n",
       "      <th>16</th>\n",
       "      <td>57.142857</td>\n",
       "      <td>0.97294</td>\n",
       "      <td>0.76796</td>\n",
       "    </tr>\n",
       "    <tr>\n",
       "      <th>17</th>\n",
       "      <td>60.714286</td>\n",
       "      <td>0.98112</td>\n",
       "      <td>0.76784</td>\n",
       "    </tr>\n",
       "    <tr>\n",
       "      <th>18</th>\n",
       "      <td>64.285714</td>\n",
       "      <td>0.99162</td>\n",
       "      <td>0.76710</td>\n",
       "    </tr>\n",
       "    <tr>\n",
       "      <th>19</th>\n",
       "      <td>67.857143</td>\n",
       "      <td>0.99304</td>\n",
       "      <td>0.76368</td>\n",
       "    </tr>\n",
       "    <tr>\n",
       "      <th>20</th>\n",
       "      <td>71.428571</td>\n",
       "      <td>0.99534</td>\n",
       "      <td>0.76514</td>\n",
       "    </tr>\n",
       "    <tr>\n",
       "      <th>21</th>\n",
       "      <td>75.000000</td>\n",
       "      <td>0.99720</td>\n",
       "      <td>0.76226</td>\n",
       "    </tr>\n",
       "    <tr>\n",
       "      <th>22</th>\n",
       "      <td>78.571429</td>\n",
       "      <td>0.99912</td>\n",
       "      <td>0.76248</td>\n",
       "    </tr>\n",
       "    <tr>\n",
       "      <th>23</th>\n",
       "      <td>82.142857</td>\n",
       "      <td>0.99922</td>\n",
       "      <td>0.76288</td>\n",
       "    </tr>\n",
       "    <tr>\n",
       "      <th>24</th>\n",
       "      <td>85.714286</td>\n",
       "      <td>0.99944</td>\n",
       "      <td>0.76572</td>\n",
       "    </tr>\n",
       "    <tr>\n",
       "      <th>25</th>\n",
       "      <td>89.285714</td>\n",
       "      <td>0.99986</td>\n",
       "      <td>0.76050</td>\n",
       "    </tr>\n",
       "    <tr>\n",
       "      <th>26</th>\n",
       "      <td>92.857143</td>\n",
       "      <td>0.99990</td>\n",
       "      <td>0.75506</td>\n",
       "    </tr>\n",
       "    <tr>\n",
       "      <th>27</th>\n",
       "      <td>96.428571</td>\n",
       "      <td>0.99992</td>\n",
       "      <td>0.75852</td>\n",
       "    </tr>\n",
       "  </tbody>\n",
       "</table>\n",
       "</div>"
      ],
      "text/plain": [
       "         depth  train_accuracy  test_accuracy\n",
       "0   100.000000         1.00000        0.76212\n",
       "1     3.571429         0.60366        0.60126\n",
       "2     7.142857         0.62184        0.62216\n",
       "3    10.714286         0.65556        0.65118\n",
       "4    14.285714         0.68858        0.68190\n",
       "5    17.857143         0.69712        0.68884\n",
       "6    21.428571         0.72992        0.71432\n",
       "7    25.000000         0.74258        0.72316\n",
       "8    28.571429         0.75830        0.72714\n",
       "9    32.142857         0.79894        0.75804\n",
       "10   35.714286         0.82126        0.76044\n",
       "11   39.285714         0.85318        0.76926\n",
       "12   42.857143         0.88340        0.76586\n",
       "13   46.428571         0.90056        0.76486\n",
       "14   50.000000         0.93484        0.77018\n",
       "15   53.571429         0.95362        0.77382\n",
       "16   57.142857         0.97294        0.76796\n",
       "17   60.714286         0.98112        0.76784\n",
       "18   64.285714         0.99162        0.76710\n",
       "19   67.857143         0.99304        0.76368\n",
       "20   71.428571         0.99534        0.76514\n",
       "21   75.000000         0.99720        0.76226\n",
       "22   78.571429         0.99912        0.76248\n",
       "23   82.142857         0.99922        0.76288\n",
       "24   85.714286         0.99944        0.76572\n",
       "25   89.285714         0.99986        0.76050\n",
       "26   92.857143         0.99990        0.75506\n",
       "27   96.428571         0.99992        0.75852"
      ]
     },
     "execution_count": 98,
     "metadata": {},
     "output_type": "execute_result"
    }
   ],
   "source": [
    "df_t"
   ]
  },
  {
   "cell_type": "markdown",
   "id": "fa9c5b8d-03a9-4a38-802a-738e063085d2",
   "metadata": {
    "tags": []
   },
   "source": [
    "## Forest"
   ]
  },
  {
   "cell_type": "code",
   "execution_count": 99,
   "id": "27d14da5-a392-4a21-b835-e8b842ed94c6",
   "metadata": {},
   "outputs": [],
   "source": [
    "# build initial forest\n",
    "initial_forest = RandomForestClassifier(max_features=\"sqrt\", random_state=random_state)\n",
    "initial_forest_fit = initial_forest.fit(X_train, y_train)"
   ]
  },
  {
   "cell_type": "code",
   "execution_count": 100,
   "id": "360f444d-c8a3-4b1e-abc2-011fd5de731e",
   "metadata": {},
   "outputs": [
    {
     "data": {
      "text/plain": [
       "34"
      ]
     },
     "execution_count": 100,
     "metadata": {},
     "output_type": "execute_result"
    }
   ],
   "source": [
    "# get max depth\n",
    "max_depth_rf = max([estimator.get_depth() for estimator in initial_forest_fit.estimators_])\n",
    "max_depth_rf"
   ]
  },
  {
   "cell_type": "code",
   "execution_count": 101,
   "id": "4aa02022-9997-4ec2-a19a-2eab77e19137",
   "metadata": {},
   "outputs": [],
   "source": [
    "# construct depth grid\n",
    "list_depths_rf = np.arange(1, 28, 1).tolist()\n",
    "depth_pct_rf = [100] + [(n / 28) * 100 for n in list_depths_rf]"
   ]
  },
  {
   "cell_type": "code",
   "execution_count": null,
   "id": "e8844672-d8f9-49a5-b526-5c59c36dec47",
   "metadata": {},
   "outputs": [],
   "source": [
    "# fit rf with smaller depth\n",
    "list_forests = [initial_forest_fit]\n",
    "\n",
    "for depth in list_depths_rf:\n",
    "    tmp_forest = RandomForestClassifier(max_features=\"sqrt\", max_depth=depth, random_state=random_state)\n",
    "    list_forests.append(tmp_forest.fit(X_train, y_train))"
   ]
  },
  {
   "cell_type": "code",
   "execution_count": null,
   "id": "4998879f-4d43-4218-9705-6cad32f8b1b2",
   "metadata": {},
   "outputs": [],
   "source": []
  },
  {
   "cell_type": "code",
   "execution_count": null,
   "id": "e30a7dab-b520-4d2c-9eee-74bd27418de8",
   "metadata": {},
   "outputs": [],
   "source": [
    "train_accuracy_rf = []\n",
    "test_accuracy_rf = []\n",
    "\n",
    "for forest in list_forests:\n",
    "    # get accuracy for the forest\n",
    "    forest_train = forest.predict(X_train)\n",
    "    forest_test = forest.predict(X_test)\n",
    "    train_accuracy_rf.append(accuracy_score(y_train, forest_train))\n",
    "    test_accuracy_rf.append(accuracy_score(y_test, forest_test))\n",
    "\n",
    "df_rf = pd.DataFrame(list(zip(depth_pct_rf, train_accuracy_rf, test_accuracy_rf)),\n",
    "        columns=[\"depth\", \"train_accuracy\", \"test_accuracy\"])\n",
    "output_rf.append(df_rf)"
   ]
  },
  {
   "cell_type": "code",
   "execution_count": null,
   "id": "1cf3d67f-82b4-40f3-af57-3ecc19dc5c27",
   "metadata": {},
   "outputs": [],
   "source": []
  },
  {
   "cell_type": "code",
   "execution_count": null,
   "id": "eda25f9f-529a-4026-b3b4-1477d228b741",
   "metadata": {},
   "outputs": [],
   "source": []
  },
  {
   "cell_type": "code",
   "execution_count": 103,
   "id": "4f2b7605-5c64-4519-bcd8-bc825ebd3b7e",
   "metadata": {
    "collapsed": true,
    "jupyter": {
     "outputs_hidden": true
    },
    "tags": []
   },
   "outputs": [
    {
     "data": {
      "text/html": [
       "<div>\n",
       "<style scoped>\n",
       "    .dataframe tbody tr th:only-of-type {\n",
       "        vertical-align: middle;\n",
       "    }\n",
       "\n",
       "    .dataframe tbody tr th {\n",
       "        vertical-align: top;\n",
       "    }\n",
       "\n",
       "    .dataframe thead th {\n",
       "        text-align: right;\n",
       "    }\n",
       "</style>\n",
       "<table border=\"1\" class=\"dataframe\">\n",
       "  <thead>\n",
       "    <tr style=\"text-align: right;\">\n",
       "      <th></th>\n",
       "      <th>depth</th>\n",
       "      <th>train_accuracy</th>\n",
       "      <th>test_accuracy</th>\n",
       "    </tr>\n",
       "  </thead>\n",
       "  <tbody>\n",
       "    <tr>\n",
       "      <th>0</th>\n",
       "      <td>100.000000</td>\n",
       "      <td>1.00000</td>\n",
       "      <td>0.94480</td>\n",
       "    </tr>\n",
       "    <tr>\n",
       "      <th>1</th>\n",
       "      <td>3.571429</td>\n",
       "      <td>0.73340</td>\n",
       "      <td>0.73244</td>\n",
       "    </tr>\n",
       "    <tr>\n",
       "      <th>2</th>\n",
       "      <td>7.142857</td>\n",
       "      <td>0.75806</td>\n",
       "      <td>0.75468</td>\n",
       "    </tr>\n",
       "    <tr>\n",
       "      <th>3</th>\n",
       "      <td>10.714286</td>\n",
       "      <td>0.79788</td>\n",
       "      <td>0.78978</td>\n",
       "    </tr>\n",
       "    <tr>\n",
       "      <th>4</th>\n",
       "      <td>14.285714</td>\n",
       "      <td>0.82268</td>\n",
       "      <td>0.81676</td>\n",
       "    </tr>\n",
       "    <tr>\n",
       "      <th>5</th>\n",
       "      <td>17.857143</td>\n",
       "      <td>0.84948</td>\n",
       "      <td>0.83744</td>\n",
       "    </tr>\n",
       "    <tr>\n",
       "      <th>6</th>\n",
       "      <td>21.428571</td>\n",
       "      <td>0.87566</td>\n",
       "      <td>0.86300</td>\n",
       "    </tr>\n",
       "    <tr>\n",
       "      <th>7</th>\n",
       "      <td>25.000000</td>\n",
       "      <td>0.90078</td>\n",
       "      <td>0.88142</td>\n",
       "    </tr>\n",
       "    <tr>\n",
       "      <th>8</th>\n",
       "      <td>28.571429</td>\n",
       "      <td>0.92430</td>\n",
       "      <td>0.89764</td>\n",
       "    </tr>\n",
       "    <tr>\n",
       "      <th>9</th>\n",
       "      <td>32.142857</td>\n",
       "      <td>0.94604</td>\n",
       "      <td>0.91022</td>\n",
       "    </tr>\n",
       "    <tr>\n",
       "      <th>10</th>\n",
       "      <td>35.714286</td>\n",
       "      <td>0.96242</td>\n",
       "      <td>0.91884</td>\n",
       "    </tr>\n",
       "    <tr>\n",
       "      <th>11</th>\n",
       "      <td>39.285714</td>\n",
       "      <td>0.97696</td>\n",
       "      <td>0.92758</td>\n",
       "    </tr>\n",
       "    <tr>\n",
       "      <th>12</th>\n",
       "      <td>42.857143</td>\n",
       "      <td>0.98682</td>\n",
       "      <td>0.93292</td>\n",
       "    </tr>\n",
       "    <tr>\n",
       "      <th>13</th>\n",
       "      <td>46.428571</td>\n",
       "      <td>0.99288</td>\n",
       "      <td>0.93592</td>\n",
       "    </tr>\n",
       "    <tr>\n",
       "      <th>14</th>\n",
       "      <td>50.000000</td>\n",
       "      <td>0.99576</td>\n",
       "      <td>0.93894</td>\n",
       "    </tr>\n",
       "    <tr>\n",
       "      <th>15</th>\n",
       "      <td>53.571429</td>\n",
       "      <td>0.99754</td>\n",
       "      <td>0.94184</td>\n",
       "    </tr>\n",
       "    <tr>\n",
       "      <th>16</th>\n",
       "      <td>57.142857</td>\n",
       "      <td>0.99860</td>\n",
       "      <td>0.94236</td>\n",
       "    </tr>\n",
       "    <tr>\n",
       "      <th>17</th>\n",
       "      <td>60.714286</td>\n",
       "      <td>0.99926</td>\n",
       "      <td>0.94282</td>\n",
       "    </tr>\n",
       "    <tr>\n",
       "      <th>18</th>\n",
       "      <td>64.285714</td>\n",
       "      <td>0.99958</td>\n",
       "      <td>0.94304</td>\n",
       "    </tr>\n",
       "    <tr>\n",
       "      <th>19</th>\n",
       "      <td>67.857143</td>\n",
       "      <td>0.99980</td>\n",
       "      <td>0.94492</td>\n",
       "    </tr>\n",
       "    <tr>\n",
       "      <th>20</th>\n",
       "      <td>71.428571</td>\n",
       "      <td>0.99992</td>\n",
       "      <td>0.94490</td>\n",
       "    </tr>\n",
       "    <tr>\n",
       "      <th>21</th>\n",
       "      <td>75.000000</td>\n",
       "      <td>0.99998</td>\n",
       "      <td>0.94436</td>\n",
       "    </tr>\n",
       "  </tbody>\n",
       "</table>\n",
       "</div>"
      ],
      "text/plain": [
       "         depth  train_accuracy  test_accuracy\n",
       "0   100.000000         1.00000        0.94480\n",
       "1     3.571429         0.73340        0.73244\n",
       "2     7.142857         0.75806        0.75468\n",
       "3    10.714286         0.79788        0.78978\n",
       "4    14.285714         0.82268        0.81676\n",
       "5    17.857143         0.84948        0.83744\n",
       "6    21.428571         0.87566        0.86300\n",
       "7    25.000000         0.90078        0.88142\n",
       "8    28.571429         0.92430        0.89764\n",
       "9    32.142857         0.94604        0.91022\n",
       "10   35.714286         0.96242        0.91884\n",
       "11   39.285714         0.97696        0.92758\n",
       "12   42.857143         0.98682        0.93292\n",
       "13   46.428571         0.99288        0.93592\n",
       "14   50.000000         0.99576        0.93894\n",
       "15   53.571429         0.99754        0.94184\n",
       "16   57.142857         0.99860        0.94236\n",
       "17   60.714286         0.99926        0.94282\n",
       "18   64.285714         0.99958        0.94304\n",
       "19   67.857143         0.99980        0.94492\n",
       "20   71.428571         0.99992        0.94490\n",
       "21   75.000000         0.99998        0.94436"
      ]
     },
     "execution_count": 103,
     "metadata": {},
     "output_type": "execute_result"
    }
   ],
   "source": [
    "df_rf"
   ]
  },
  {
   "cell_type": "markdown",
   "id": "a5b7730a-0677-47ec-8eb3-ea4fb2f4edb4",
   "metadata": {},
   "source": [
    "## Findings:"
   ]
  },
  {
   "cell_type": "code",
   "execution_count": 110,
   "id": "3f6d6263-9f87-4a7e-b524-1b702909fdfe",
   "metadata": {
    "tags": []
   },
   "outputs": [
    {
     "data": {
      "image/png": "[encoded data removed]",
      "text/plain": [
       "<Figure size 1440x720 with 2 Axes>"
      ]
     },
     "metadata": {},
     "output_type": "display_data"
    }
   ],
   "source": [
    "sns.set_style('whitegrid')\n",
    "fig, axes = plt.subplots(1, 2, sharex=True, sharey=True, figsize=(20,10))\n",
    "sns.lineplot(data=df_t, x='depth', y='train_accuracy', ax=axes[0], ci='sd', color='green');\n",
    "sns.lineplot(data=df_rf, x='depth', y='train_accuracy', ax=axes[0], ci='sd', color='orange');\n",
    "axes[0].set_title('Train Accuracy')\n",
    "axes[0].legend(['Decision Tree', 'Random Forest'], loc=\"upper left\")\n",
    "\n",
    "sns.lineplot(data=df_t, x='depth', y='test_accuracy', ax=axes[1], ci='sd', color='green');\n",
    "sns.lineplot(data=df_rf, x='depth', y='test_accuracy', ax=axes[1], ci='sd', color='orange');\n",
    "axes[1].set_title('Test Accuracy')\n",
    "axes[1].legend(['Decision Tree', 'Random Forest'], loc=\"upper left\")\n",
    "plt.show()"
   ]
  },
  {
   "cell_type": "code",
   "execution_count": null,
   "id": "c5f58834-af43-4518-8a69-a51741e73374",
   "metadata": {},
   "outputs": [],
   "source": []
  },
  {
   "cell_type": "code",
   "execution_count": null,
   "id": "a46e2dc7-98c9-461a-8791-d7f90dc6c268",
   "metadata": {},
   "outputs": [],
   "source": []
  },
  {
   "cell_type": "code",
   "execution_count": null,
   "id": "379eb665-104c-4b9c-9b8f-767994e7834d",
   "metadata": {},
   "outputs": [],
   "source": []
  },
  {
   "cell_type": "code",
   "execution_count": null,
   "id": "6a3d9853-bba2-4d3e-8cc8-f1d0385ba916",
   "metadata": {},
   "outputs": [],
   "source": []
  },
  {
   "cell_type": "code",
   "execution_count": null,
   "id": "dd5096ea-491c-4c13-a6fd-d4d0284d640a",
   "metadata": {},
   "outputs": [],
   "source": []
  },
  {
   "cell_type": "code",
   "execution_count": null,
   "id": "6a3381a1-e127-4827-9a3f-1fd237b36773",
   "metadata": {},
   "outputs": [],
   "source": []
  },
  {
   "cell_type": "code",
   "execution_count": null,
   "id": "564745e5-6d5e-47b0-a6a3-1a5103ed788f",
   "metadata": {},
   "outputs": [],
   "source": []
  },
  {
   "cell_type": "code",
   "execution_count": null,
   "id": "b047af37-6221-4680-8cd6-77fdb67f68a4",
   "metadata": {},
   "outputs": [],
   "source": []
  },
  {
   "cell_type": "code",
   "execution_count": null,
   "id": "8a1dbd3a-67fc-4f04-80a2-c00187d86172",
   "metadata": {},
   "outputs": [],
   "source": []
  },
  {
   "cell_type": "code",
   "execution_count": null,
   "id": "d2bad960-48ab-41c1-b071-24a9009c86a4",
   "metadata": {
    "jupyter": {
     "source_hidden": true
    },
    "tags": []
   },
   "outputs": [],
   "source": [
    "from sklearn.datasets import make_classification\n",
    "import random\n",
    "\n",
    "random_state = 123\n",
    "times = 33\n",
    "samples = 100000\n",
    "features = 50\n",
    "proportion_informative = 0.8\n",
    "proportion_missing = 0.1\n",
    "proportion_w_nose = 0.8\n",
    "\n",
    "output_tree = []\n",
    "output_rf = []\n",
    "\n",
    "for _ in range(times):\n",
    "    print(_)\n",
    "    # generate a binary classification dataset.\n",
    "    X, y = make_classification(\n",
    "        n_samples=samples,\n",
    "        n_features=features,\n",
    "        n_informative=round(features * proportion_informative),\n",
    "        n_redundant=0,\n",
    "        n_repeated=0,\n",
    "    )\n",
    "    # drop some columns\n",
    "    cols_to_delete = random.sample(\n",
    "        range(X.shape[1]), round(features * proportion_missing)\n",
    "    )\n",
    "    X = np.delete(X, cols_to_delete, 1)\n",
    "\n",
    "    # split the data\n",
    "    X_train, X_test, y_train, y_test = train_test_split(X, y, test_size=0.5)\n",
    "\n",
    "    # add noise\n",
    "    X_test_shifted = X_test.copy()\n",
    "    cols_to_add_noise = random.sample(\n",
    "        range(X_test_shifted.shape[1]),\n",
    "        round(X_test_shifted.shape[1] * proportion_w_nose),\n",
    "    )\n",
    "    for col in cols_to_add_noise:\n",
    "        noise = np.random.normal(\n",
    "            loc=0, scale=np.std(X_test_shifted[:, col]), size=X_test_shifted.shape[0],\n",
    "        )\n",
    "        X_test_shifted[:, col] += noise\n",
    "\n",
    "    # build initial fully grown tree\n",
    "    initial_tree = DecisionTreeClassifier(\n",
    "        max_features=\"sqrt\", random_state=random_state,\n",
    "    )\n",
    "    initial_tree_fit = initial_tree.fit(X_train, y_train)\n",
    "    # get max depth\n",
    "    max_depth = initial_tree_fit.tree_.max_depth\n",
    "    # construct depth grid\n",
    "    list_depths = np.arange(1, max_depth, 1).tolist()\n",
    "    depth_pct = [100] + [(n / max_depth) * 100 for n in list_depths]\n",
    "\n",
    "    # fit trees with smaller depth\n",
    "    list_trees = [initial_tree_fit]\n",
    "    for depth in list_depths:\n",
    "        tmptree = DecisionTreeClassifier(\n",
    "            max_depth=depth, max_features=\"sqrt\", random_state=random_state\n",
    "        )\n",
    "        list_trees.append(tmptree.fit(X_train, y_train))\n",
    "\n",
    "    train_accuracy = []\n",
    "    test_accuracy = []\n",
    "    shifted_test_accuracy = []\n",
    "\n",
    "    for tree in list_trees:\n",
    "        # calculate accuracy\n",
    "        yhat_train = tree.predict(X_train)\n",
    "        yhat_test = tree.predict(X_test)\n",
    "        yhat_shifted_test = tree.predict(X_test_shifted)\n",
    "        train_accuracy.append(accuracy_score(y_train, yhat_train))\n",
    "        test_accuracy.append(accuracy_score(y_test, yhat_test))\n",
    "        shifted_test_accuracy.append(accuracy_score(y_test, yhat_shifted_test))\n",
    "\n",
    "    # save to pandas df\n",
    "    df_t = pd.DataFrame(\n",
    "        list(zip(depth_pct, train_accuracy, test_accuracy, shifted_test_accuracy)),\n",
    "        columns=[\"depth\", \"train_accuracy\", \"test_accuracy\", \"shifted_test_accuracy\"],\n",
    "    )\n",
    "    output_tree.append(df_t)\n",
    "\n",
    "    # build initial forest\n",
    "    initial_forest = RandomForestClassifier(\n",
    "        max_features=\"sqrt\", random_state=random_state\n",
    "    )\n",
    "    initial_forest_fit = initial_forest.fit(X_train, y_train)\n",
    "    # get max depth\n",
    "    max_depth_rf = max(\n",
    "        [estimator.get_depth() for estimator in initial_forest_fit.estimators_]\n",
    "    )\n",
    "    # construct depth grid\n",
    "    list_depths_rf = np.arange(1, max_depth_rf, 1).tolist()\n",
    "    depth_pct_rf = [100] + [(n / max_depth_rf) * 100 for n in list_depths_rf]\n",
    "\n",
    "    # fit rf with smaller depth\n",
    "    list_forests = [initial_forest_fit]\n",
    "    for depth in list_depths_rf:\n",
    "        tmp_forest = RandomForestClassifier(\n",
    "            max_features=\"sqrt\", max_depth=depth, random_state=random_state\n",
    "        )\n",
    "        list_forests.append(tmp_forest.fit(X_train, y_train))\n",
    "\n",
    "    train_accuracy_rf = []\n",
    "    test_accuracy_rf = []\n",
    "    shifted_test_accuracy_rf = []\n",
    "\n",
    "    for forest in list_forests:\n",
    "        # get accuracy for the forest\n",
    "        yhat_train = forest.predict(X_train)\n",
    "        yhat_test = forest.predict(X_test)\n",
    "        yhat_shifted_test = forest.predict(X_test_shifted)\n",
    "        train_accuracy_rf.append(accuracy_score(y_train, yhat_train))\n",
    "        test_accuracy_rf.append(accuracy_score(y_test, yhat_test))\n",
    "        shifted_test_accuracy_rf.append(accuracy_score(y_test, yhat_shifted_test))\n",
    "\n",
    "    df_rf = pd.DataFrame(\n",
    "        list(\n",
    "            zip(\n",
    "                depth_pct_rf,\n",
    "                train_accuracy_rf,\n",
    "                test_accuracy_rf,\n",
    "                shifted_test_accuracy_rf,\n",
    "            )\n",
    "        ),\n",
    "        columns=[\"depth\", \"train_accuracy\", \"test_accuracy\", \"shifted_test_accuracy\"],\n",
    "    )\n",
    "    output_rf.append(df_rf)\n"
   ]
  },
  {
   "cell_type": "code",
   "execution_count": null,
   "id": "73bba4fd-883b-4347-8ef2-824468466b96",
   "metadata": {},
   "outputs": [],
   "source": []
  },
  {
   "cell_type": "code",
   "execution_count": null,
   "id": "9d534246-8298-49ef-ab57-4670d9f0a850",
   "metadata": {},
   "outputs": [],
   "source": [
    "df_rf"
   ]
  },
  {
   "cell_type": "code",
   "execution_count": null,
   "id": "84fb0452-ee11-402e-84fb-9acf991034e4",
   "metadata": {},
   "outputs": [],
   "source": []
  },
  {
   "cell_type": "code",
   "execution_count": null,
   "id": "9016ef65-935c-445c-9250-133a92e64cf3",
   "metadata": {},
   "outputs": [],
   "source": []
  },
  {
   "cell_type": "code",
   "execution_count": null,
   "id": "3ab8ea6c-9b08-4a4d-b0c2-ec27be5929b8",
   "metadata": {},
   "outputs": [],
   "source": [
    "sns.lineplot(data=df_t, x=\"depth\", y=\"train_accuracy\")\n",
    "sns.lineplot(data=df_rf, x=\"depth\", y=\"train_accuracy\")"
   ]
  },
  {
   "cell_type": "code",
   "execution_count": null,
   "id": "e2d0e488-931f-475d-88d5-85ad4beb4906",
   "metadata": {},
   "outputs": [],
   "source": []
  },
  {
   "cell_type": "code",
   "execution_count": null,
   "id": "23fbae26-49a4-48fb-a3ef-ce3d4e5bf1bc",
   "metadata": {},
   "outputs": [],
   "source": []
  },
  {
   "cell_type": "code",
   "execution_count": null,
   "id": "2e13f974-3027-4d25-83f4-ff85beb6b73e",
   "metadata": {},
   "outputs": [],
   "source": []
  },
  {
   "cell_type": "code",
   "execution_count": null,
   "id": "1e13ade3-2a88-4fde-bd29-bd41abd0f2f5",
   "metadata": {},
   "outputs": [],
   "source": []
  },
  {
   "cell_type": "code",
   "execution_count": null,
   "id": "ef2637ee-9525-484d-9373-84505d4508b4",
   "metadata": {},
   "outputs": [],
   "source": []
  },
  {
   "cell_type": "code",
   "execution_count": null,
   "id": "4ffd960e-230f-4746-bc9c-8d3412a7712c",
   "metadata": {},
   "outputs": [],
   "source": []
  },
  {
   "cell_type": "code",
   "execution_count": null,
   "id": "0d2bd46c-6d06-4d04-a3be-a9b49edaad02",
   "metadata": {},
   "outputs": [],
   "source": []
  },
  {
   "cell_type": "code",
   "execution_count": null,
   "id": "f1048201-ac90-4a80-97d3-f6748843cb81",
   "metadata": {},
   "outputs": [],
   "source": []
  },
  {
   "cell_type": "code",
   "execution_count": null,
   "id": "8bdc37ef-a2b2-481c-b800-3fe396801d4e",
   "metadata": {},
   "outputs": [],
   "source": []
  },
  {
   "cell_type": "code",
   "execution_count": null,
   "id": "e1f008be-2996-4d07-9500-79a97b2784c1",
   "metadata": {},
   "outputs": [],
   "source": []
  },
  {
   "cell_type": "code",
   "execution_count": null,
   "id": "f70e2ec8-d127-4aef-a4ea-a1f5c9345110",
   "metadata": {},
   "outputs": [],
   "source": []
  },
  {
   "cell_type": "code",
   "execution_count": null,
   "id": "92fd96c9-a942-4d44-b7f7-4e9f62f864ba",
   "metadata": {},
   "outputs": [],
   "source": []
  },
  {
   "cell_type": "code",
   "execution_count": null,
   "id": "80344d3e-9b76-4296-9e53-c1153c57b219",
   "metadata": {},
   "outputs": [],
   "source": []
  },
  {
   "cell_type": "code",
   "execution_count": null,
   "id": "5022357d-652f-428d-9d6a-37b039ae2f72",
   "metadata": {},
   "outputs": [],
   "source": []
  },
  {
   "cell_type": "code",
   "execution_count": null,
   "id": "5f47c19a-d6e9-4f57-bf89-7184118880e7",
   "metadata": {},
   "outputs": [],
   "source": []
  },
  {
   "cell_type": "code",
   "execution_count": null,
   "id": "3a7a1e1f-ec92-40dd-abe5-b2ca40af1160",
   "metadata": {},
   "outputs": [],
   "source": []
  },
  {
   "cell_type": "code",
   "execution_count": null,
   "id": "4aa75c95-1e73-4194-b770-dceaf65435bd",
   "metadata": {},
   "outputs": [],
   "source": []
  },
  {
   "cell_type": "code",
   "execution_count": null,
   "id": "333c0c58-6a00-4c82-9058-a7581a5fe475",
   "metadata": {},
   "outputs": [],
   "source": []
  },
  {
   "cell_type": "code",
   "execution_count": null,
   "id": "14cf220b-95b7-4e76-8ef5-108fc92b5957",
   "metadata": {},
   "outputs": [],
   "source": []
  },
  {
   "cell_type": "code",
   "execution_count": null,
   "id": "b02a5c2e-8bc7-41de-8680-bf24e74b1743",
   "metadata": {},
   "outputs": [],
   "source": []
  },
  {
   "cell_type": "code",
   "execution_count": null,
   "id": "609d7732-2935-4884-944e-0bf071018079",
   "metadata": {},
   "outputs": [],
   "source": []
  },
  {
   "cell_type": "code",
   "execution_count": null,
   "id": "17d1c171-fc22-4a8e-9585-95a118ad40f9",
   "metadata": {},
   "outputs": [],
   "source": []
  },
  {
   "cell_type": "code",
   "execution_count": null,
   "id": "8aff8538-f1ec-4f29-9b01-0d425ff18f75",
   "metadata": {},
   "outputs": [],
   "source": [
    "rf.feature_importances_ # be careful in the interpretation in case you have highly correlated features"
   ]
  },
  {
   "cell_type": "code",
   "execution_count": null,
   "id": "0ee62be8-6d54-456f-80a5-5a0de2929f44",
   "metadata": {},
   "outputs": [],
   "source": []
  },
  {
   "cell_type": "code",
   "execution_count": null,
   "id": "f454dfe4-1410-446e-a747-bd5b2dfae736",
   "metadata": {},
   "outputs": [],
   "source": []
  },
  {
   "cell_type": "code",
   "execution_count": null,
   "id": "bd41c480-cfae-46d2-8e7d-ce9feda1ab74",
   "metadata": {},
   "outputs": [],
   "source": []
  },
  {
   "cell_type": "code",
   "execution_count": null,
   "id": "70e80af5-8589-4d6a-aa9c-f589074902a8",
   "metadata": {},
   "outputs": [],
   "source": [
    "rf.feature_names_in_"
   ]
  },
  {
   "cell_type": "code",
   "execution_count": null,
   "id": "00da3a52-9a28-4151-86c6-2138287a5c1c",
   "metadata": {},
   "outputs": [],
   "source": []
  },
  {
   "cell_type": "code",
   "execution_count": null,
   "id": "defa67bd-0d68-4ef1-b8d5-6a4e8fdaf94a",
   "metadata": {},
   "outputs": [],
   "source": []
  },
  {
   "cell_type": "code",
   "execution_count": null,
   "id": "9387b939-7940-4d47-86fb-1e89008b086f",
   "metadata": {},
   "outputs": [],
   "source": []
  },
  {
   "cell_type": "code",
   "execution_count": null,
   "id": "a58b3cb7-3982-4aa8-b4ab-d990ea684632",
   "metadata": {},
   "outputs": [],
   "source": []
  },
  {
   "cell_type": "code",
   "execution_count": null,
   "id": "303abb00-a7bd-4ee6-beeb-3e3ff776b2b1",
   "metadata": {},
   "outputs": [],
   "source": []
  },
  {
   "cell_type": "code",
   "execution_count": null,
   "id": "5cd459b9-cd19-4f2e-881a-d80d2008cf3d",
   "metadata": {},
   "outputs": [],
   "source": []
  },
  {
   "cell_type": "code",
   "execution_count": null,
   "id": "1b62f6eb-438e-48ba-a2e9-48c3f9393c50",
   "metadata": {},
   "outputs": [],
   "source": []
  },
  {
   "cell_type": "code",
   "execution_count": null,
   "id": "05520349-6151-4551-b4a0-1fb54343b16e",
   "metadata": {},
   "outputs": [],
   "source": []
  },
  {
   "cell_type": "code",
   "execution_count": null,
   "id": "e3ed7b17-cf52-44ee-bcd9-9510effdcec4",
   "metadata": {},
   "outputs": [],
   "source": []
  },
  {
   "cell_type": "code",
   "execution_count": null,
   "id": "0fe6d56b-4d10-4dc7-ac26-30a718fcdaf7",
   "metadata": {},
   "outputs": [],
   "source": []
  },
  {
   "cell_type": "code",
   "execution_count": null,
   "id": "e9dcc1f2-0df8-4911-b2a1-05cdb8524995",
   "metadata": {},
   "outputs": [],
   "source": []
  },
  {
   "cell_type": "code",
   "execution_count": null,
   "id": "2246a837-dc2d-4d53-88df-8939cb5127fc",
   "metadata": {},
   "outputs": [],
   "source": []
  },
  {
   "cell_type": "code",
   "execution_count": null,
   "id": "2f6ee408-47db-4440-a2c9-23a7fb3dc736",
   "metadata": {},
   "outputs": [],
   "source": []
  },
  {
   "cell_type": "code",
   "execution_count": null,
   "id": "57166daf-5022-427a-9ee0-47f99f210cbd",
   "metadata": {},
   "outputs": [],
   "source": []
  },
  {
   "cell_type": "code",
   "execution_count": null,
   "id": "76dbf47c-3159-499e-877a-9f79a22090f2",
   "metadata": {},
   "outputs": [],
   "source": []
  },
  {
   "cell_type": "code",
   "execution_count": null,
   "id": "2ae0c8ce-6e06-4c72-a1c7-49e62d6ce52f",
   "metadata": {},
   "outputs": [],
   "source": []
  },
  {
   "cell_type": "code",
   "execution_count": null,
   "id": "e8789935-1e51-40ba-9ab9-d128784ba9f8",
   "metadata": {},
   "outputs": [],
   "source": []
  },
  {
   "cell_type": "code",
   "execution_count": null,
   "id": "90fb6eb4-3c6a-4024-a565-2651bf9933d2",
   "metadata": {},
   "outputs": [],
   "source": []
  }
 ],
 "metadata": {
  "kernelspec": {
   "display_name": "Python 3 (ipykernel)",
   "language": "python",
   "name": "python3"
  },
  "language_info": {
   "codemirror_mode": {
    "name": "ipython",
    "version": 3
   },
   "file_extension": ".py",
   "mimetype": "text/x-python",
   "name": "python",
   "nbconvert_exporter": "python",
   "pygments_lexer": "ipython3",
   "version": "3.9.7"
  }
 },
 "nbformat": 4,
 "nbformat_minor": 5
}
